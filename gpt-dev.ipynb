{
 "cells": [
  {
   "cell_type": "code",
   "execution_count": 1,
   "metadata": {},
   "outputs": [
    {
     "name": "stderr",
     "output_type": "stream",
     "text": [
      "--2023-12-30 01:28:58--  https://raw.githubusercontent.com/karpathy/char-rnn/master/data/tinyshakespeare/input.txt\n",
      "Resolving raw.githubusercontent.com (raw.githubusercontent.com)... 185.199.108.133, 185.199.110.133, 185.199.109.133, ...\n",
      "Connecting to raw.githubusercontent.com (raw.githubusercontent.com)|185.199.108.133|:443... connected.\n",
      "HTTP request sent, awaiting response... 200 OK\n",
      "Length: 1115394 (1.1M) [text/plain]\n",
      "Saving to: 'input.txt.1'\n",
      "\n",
      "     0K .......... .......... .......... .......... ..........  4% 3.10M 0s\n",
      "    50K .......... .......... .......... .......... ..........  9% 9.05M 0s\n",
      "   100K .......... .......... .......... .......... .......... 13% 4.82M 0s\n",
      "   150K .......... .......... .......... .......... .......... 18% 11.7M 0s\n",
      "   200K .......... .......... .......... .......... .......... 22% 8.70M 0s\n",
      "   250K .......... .......... .......... .......... .......... 27% 18.7M 0s\n",
      "   300K .......... .......... .......... .......... .......... 32% 16.5M 0s\n",
      "   350K .......... .......... .......... .......... .......... 36% 26.5M 0s\n",
      "   400K .......... .......... .......... .......... .......... 41% 21.1M 0s\n",
      "   450K .......... .......... .......... .......... .......... 45% 10.1M 0s\n",
      "   500K .......... .......... .......... .......... .......... 50% 9.68M 0s\n",
      "   550K .......... .......... .......... .......... .......... 55% 24.8M 0s\n",
      "   600K .......... .......... .......... .......... .......... 59% 20.7M 0s\n",
      "   650K .......... .......... .......... .......... .......... 64% 73.0M 0s\n",
      "   700K .......... .......... .......... .......... .......... 68%  115M 0s\n",
      "   750K .......... .......... .......... .......... .......... 73% 49.1M 0s\n",
      "   800K .......... .......... .......... .......... .......... 78% 24.7M 0s\n",
      "   850K .......... .......... .......... .......... .......... 82% 85.7M 0s\n",
      "   900K .......... .......... .......... .......... .......... 87% 49.8M 0s\n",
      "   950K .......... .......... .......... .......... .......... 91% 15.7M 0s\n",
      "  1000K .......... .......... .......... .......... .......... 96% 15.8M 0s\n",
      "  1050K .......... .......... .......... .........            100% 97.8M=0.08s\n",
      "\n",
      "2023-12-30 01:28:58 (13.8 MB/s) - 'input.txt.1' saved [1115394/1115394]\n",
      "\n"
     ]
    }
   ],
   "source": [
    "!wget https://raw.githubusercontent.com/karpathy/char-rnn/master/data/tinyshakespeare/input.txt"
   ]
  },
  {
   "cell_type": "code",
   "execution_count": 2,
   "metadata": {},
   "outputs": [],
   "source": [
    "with open('input.txt', 'r',encoding='utf-8') as f:\n",
    "    text = f.read()"
   ]
  },
  {
   "cell_type": "code",
   "execution_count": 3,
   "metadata": {},
   "outputs": [
    {
     "name": "stdout",
     "output_type": "stream",
     "text": [
      "length of dataset in characters: 1115394\n"
     ]
    }
   ],
   "source": [
    "print(\"length of dataset in characters:\", len(text))"
   ]
  },
  {
   "cell_type": "code",
   "execution_count": 4,
   "metadata": {},
   "outputs": [
    {
     "name": "stdout",
     "output_type": "stream",
     "text": [
      "First Citizen:\n",
      "Before we proceed any further, hear me speak.\n",
      "\n",
      "All:\n",
      "Speak, speak.\n",
      "\n",
      "First Citizen:\n",
      "You\n"
     ]
    }
   ],
   "source": [
    "print(text[:100])"
   ]
  },
  {
   "cell_type": "code",
   "execution_count": 5,
   "metadata": {},
   "outputs": [
    {
     "name": "stdout",
     "output_type": "stream",
     "text": [
      "65 \n",
      " !$&',-.3:;?ABCDEFGHIJKLMNOPQRSTUVWXYZabcdefghijklmnopqrstuvwxyz\n"
     ]
    }
   ],
   "source": [
    "chars = sorted(list(set(text)))\n",
    "vocab_Size = len(chars)\n",
    "print(vocab_Size, ''.join(chars))"
   ]
  },
  {
   "cell_type": "markdown",
   "metadata": {},
   "source": [
    "#### tokenization"
   ]
  },
  {
   "cell_type": "code",
   "execution_count": 6,
   "metadata": {},
   "outputs": [
    {
     "name": "stdout",
     "output_type": "stream",
     "text": [
      "[46, 47, 47, 1, 58, 46, 43, 56, 43]\n",
      "hii there\n"
     ]
    }
   ],
   "source": [
    "stoi = {ch:i for i,ch in enumerate(chars)}\n",
    "itos = {i:ch for i,ch in enumerate(chars)}\n",
    "encode = lambda s: [stoi[c] for c in s]\n",
    "decode = lambda l: ''.join([itos[i] for i in l])\n",
    "\n",
    "print(encode(\"hii there\"))\n",
    "print(decode(encode(\"hii there\")))"
   ]
  },
  {
   "cell_type": "code",
   "execution_count": 24,
   "metadata": {},
   "outputs": [
    {
     "name": "stdout",
     "output_type": "stream",
     "text": [
      "50257\n",
      "[71, 4178, 612]\n",
      "hii there\n"
     ]
    }
   ],
   "source": [
    "# import tiktoken\n",
    "# enc = tiktoken.get_encoding('gpt2')\n",
    "# print(enc.n_vocab)\n",
    "# print(enc.encode(\"hii there\"))\n",
    "# print(enc.decode(enc.encode(\"hii there\")))"
   ]
  },
  {
   "cell_type": "code",
   "execution_count": 25,
   "metadata": {},
   "outputs": [
    {
     "name": "stdout",
     "output_type": "stream",
     "text": [
      "torch.Size([1115394]) torch.int64\n",
      "tensor([18, 47, 56, 57, 58,  1, 15, 47, 58, 47, 64, 43, 52, 10,  0, 14, 43, 44,\n",
      "        53, 56, 43,  1, 61, 43,  1, 54, 56, 53, 41, 43, 43, 42,  1, 39, 52, 63,\n",
      "         1, 44, 59, 56, 58, 46, 43, 56,  6,  1, 46, 43, 39, 56,  1, 51, 43,  1,\n",
      "        57, 54, 43, 39, 49,  8,  0,  0, 13, 50, 50, 10,  0, 31, 54, 43, 39, 49,\n",
      "         6,  1, 57, 54, 43, 39, 49,  8,  0,  0, 18, 47, 56, 57, 58,  1, 15, 47,\n",
      "        58, 47, 64, 43, 52, 10,  0, 37, 53, 59])\n"
     ]
    }
   ],
   "source": [
    "import torch\n",
    "data = torch.tensor(encode(text), dtype=torch.long)\n",
    "print(data.shape, data.dtype)\n",
    "print(data[:100])"
   ]
  },
  {
   "cell_type": "code",
   "execution_count": 26,
   "metadata": {},
   "outputs": [],
   "source": [
    "n = int(0.9*len(data))\n",
    "train_data = data[:n]\n",
    "val_data = data[n:]"
   ]
  },
  {
   "cell_type": "code",
   "execution_count": 45,
   "metadata": {},
   "outputs": [
    {
     "data": {
      "text/plain": [
       "tensor([18, 47, 56, 57, 58,  1, 15, 47, 58])"
      ]
     },
     "execution_count": 45,
     "metadata": {},
     "output_type": "execute_result"
    }
   ],
   "source": [
    "block_size = 8\n",
    "train_data[:block_size+1]#.tolist()"
   ]
  },
  {
   "cell_type": "code",
   "execution_count": 46,
   "metadata": {},
   "outputs": [
    {
     "data": {
      "text/plain": [
       "'First Cit'"
      ]
     },
     "execution_count": 46,
     "metadata": {},
     "output_type": "execute_result"
    }
   ],
   "source": [
    "decode(train_data[:block_size+1].tolist())"
   ]
  },
  {
   "cell_type": "code",
   "execution_count": 47,
   "metadata": {},
   "outputs": [
    {
     "name": "stdout",
     "output_type": "stream",
     "text": [
      "when input is tensor([18]) the target is: 47\n",
      "when input is tensor([18, 47]) the target is: 56\n",
      "when input is tensor([18, 47, 56]) the target is: 57\n",
      "when input is tensor([18, 47, 56, 57]) the target is: 58\n",
      "when input is tensor([18, 47, 56, 57, 58]) the target is: 1\n",
      "when input is tensor([18, 47, 56, 57, 58,  1]) the target is: 15\n",
      "when input is tensor([18, 47, 56, 57, 58,  1, 15]) the target is: 47\n",
      "when input is tensor([18, 47, 56, 57, 58,  1, 15, 47]) the target is: 58\n"
     ]
    }
   ],
   "source": [
    "x = train_data[:block_size]\n",
    "y = train_data[1:block_size+1]\n",
    "for t in range(block_size):\n",
    "    context = x[:t+1]\n",
    "    target = y[t]\n",
    "    print(f\"when input is {context} the target is: {target}\")"
   ]
  },
  {
   "cell_type": "code",
   "execution_count": 48,
   "metadata": {},
   "outputs": [
    {
     "name": "stdout",
     "output_type": "stream",
     "text": [
      "inputs:\n",
      "torch.Size([4, 8])\n",
      "tensor([[ 0, 35, 46, 43, 56, 43,  1, 44],\n",
      "        [10,  0, 32, 46, 39, 58,  5, 57],\n",
      "        [56, 44, 59, 50,  1, 58, 47, 51],\n",
      "        [42,  1, 58, 53,  1, 39, 45, 39]])\n",
      "tragets:\n",
      "torch.Size([4, 8])\n",
      "tensor([[35, 46, 43, 56, 43,  1, 44, 43],\n",
      "        [ 0, 32, 46, 39, 58,  5, 57,  1],\n",
      "        [44, 59, 50,  1, 58, 47, 51, 43],\n",
      "        [ 1, 58, 53,  1, 39, 45, 39, 47]])\n",
      "--------\n",
      "when input is tensor([0]) the target is: 35\n",
      "when input is tensor([ 0, 35]) the target is: 46\n",
      "when input is tensor([ 0, 35, 46]) the target is: 43\n",
      "when input is tensor([ 0, 35, 46, 43]) the target is: 56\n",
      "when input is tensor([ 0, 35, 46, 43, 56]) the target is: 43\n",
      "when input is tensor([ 0, 35, 46, 43, 56, 43]) the target is: 1\n",
      "when input is tensor([ 0, 35, 46, 43, 56, 43,  1]) the target is: 44\n",
      "when input is tensor([ 0, 35, 46, 43, 56, 43,  1, 44]) the target is: 43\n",
      "when input is tensor([10]) the target is: 0\n",
      "when input is tensor([10,  0]) the target is: 32\n",
      "when input is tensor([10,  0, 32]) the target is: 46\n",
      "when input is tensor([10,  0, 32, 46]) the target is: 39\n",
      "when input is tensor([10,  0, 32, 46, 39]) the target is: 58\n",
      "when input is tensor([10,  0, 32, 46, 39, 58]) the target is: 5\n",
      "when input is tensor([10,  0, 32, 46, 39, 58,  5]) the target is: 57\n",
      "when input is tensor([10,  0, 32, 46, 39, 58,  5, 57]) the target is: 1\n",
      "when input is tensor([56]) the target is: 44\n",
      "when input is tensor([56, 44]) the target is: 59\n",
      "when input is tensor([56, 44, 59]) the target is: 50\n",
      "when input is tensor([56, 44, 59, 50]) the target is: 1\n",
      "when input is tensor([56, 44, 59, 50,  1]) the target is: 58\n",
      "when input is tensor([56, 44, 59, 50,  1, 58]) the target is: 47\n",
      "when input is tensor([56, 44, 59, 50,  1, 58, 47]) the target is: 51\n",
      "when input is tensor([56, 44, 59, 50,  1, 58, 47, 51]) the target is: 43\n",
      "when input is tensor([42]) the target is: 1\n",
      "when input is tensor([42,  1]) the target is: 58\n",
      "when input is tensor([42,  1, 58]) the target is: 53\n",
      "when input is tensor([42,  1, 58, 53]) the target is: 1\n",
      "when input is tensor([42,  1, 58, 53,  1]) the target is: 39\n",
      "when input is tensor([42,  1, 58, 53,  1, 39]) the target is: 45\n",
      "when input is tensor([42,  1, 58, 53,  1, 39, 45]) the target is: 39\n",
      "when input is tensor([42,  1, 58, 53,  1, 39, 45, 39]) the target is: 47\n"
     ]
    }
   ],
   "source": [
    "batch_size = 4\n",
    "block_size = 8\n",
    "\n",
    "def get_batch(split):\n",
    "    data = train_data if split=='train' else val_data\n",
    "    ix = torch.randint(len(data) - block_size, (batch_size,))\n",
    "    x = torch.stack([data[i : i + block_size] for i in ix])\n",
    "    y = torch.stack([data[i + 1 : i + block_size + 1] for i in ix])\n",
    "    return x, y\n",
    "\n",
    "xb, yb = get_batch('train')\n",
    "print(\"inputs:\")\n",
    "print(xb.shape)\n",
    "print(xb)\n",
    "\n",
    "print('tragets:')\n",
    "print(yb.shape)\n",
    "print(yb)\n",
    "\n",
    "print('--------')\n",
    "\n",
    "for b in range(batch_size):\n",
    "    for t in range(block_size):\n",
    "        context = xb[b, :t+1]\n",
    "        target = yb[b, t]\n",
    "        print(f\"when input is {context} the target is: {target}\")"
   ]
  },
  {
   "cell_type": "code",
   "execution_count": null,
   "metadata": {},
   "outputs": [],
   "source": []
  }
 ],
 "metadata": {
  "kernelspec": {
   "display_name": "llm",
   "language": "python",
   "name": "python3"
  },
  "language_info": {
   "codemirror_mode": {
    "name": "ipython",
    "version": 3
   },
   "file_extension": ".py",
   "mimetype": "text/x-python",
   "name": "python",
   "nbconvert_exporter": "python",
   "pygments_lexer": "ipython3",
   "version": "3.10.13"
  }
 },
 "nbformat": 4,
 "nbformat_minor": 2
}
