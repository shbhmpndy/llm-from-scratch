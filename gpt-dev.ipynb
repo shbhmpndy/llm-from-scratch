{
 "cells": [
  {
   "cell_type": "code",
   "execution_count": 2,
   "metadata": {},
   "outputs": [
    {
     "name": "stderr",
     "output_type": "stream",
     "text": [
      "--2023-12-30 01:19:59--  https://raw.githubusercontent.com/karpathy/char-rnn/master/data/tinyshakespeare/input.txt\n",
      "Resolving raw.githubusercontent.com (raw.githubusercontent.com)... 185.199.108.133, 185.199.110.133, 185.199.109.133, ...\n",
      "Connecting to raw.githubusercontent.com (raw.githubusercontent.com)|185.199.108.133|:443... connected.\n",
      "HTTP request sent, awaiting response... 200 OK\n",
      "Length: 1115394 (1.1M) [text/plain]\n",
      "Saving to: 'input.txt'\n",
      "\n",
      "     0K .......... .......... .......... .......... ..........  4% 2.96M 0s\n",
      "    50K .......... .......... .......... .......... ..........  9% 8.23M 0s\n",
      "   100K .......... .......... .......... .......... .......... 13% 5.42M 0s\n",
      "   150K .......... .......... .......... .......... .......... 18% 12.2M 0s\n",
      "   200K .......... .......... .......... .......... .......... 22% 8.48M 0s\n",
      "   250K .......... .......... .......... .......... .......... 27% 21.1M 0s\n",
      "   300K .......... .......... .......... .......... .......... 32% 20.9M 0s\n",
      "   350K .......... .......... .......... .......... .......... 36% 13.0M 0s\n",
      "   400K .......... .......... .......... .......... .......... 41% 9.38M 0s\n",
      "   450K .......... .......... .......... .......... .......... 45% 38.8M 0s\n",
      "   500K .......... .......... .......... .......... .......... 50% 19.3M 0s\n",
      "   550K .......... .......... .......... .......... .......... 55% 12.7M 0s\n",
      "   600K .......... .......... .......... .......... .......... 59% 18.8M 0s\n",
      "   650K .......... .......... .......... .......... .......... 64% 68.3M 0s\n",
      "   700K .......... .......... .......... .......... .......... 68%  146M 0s\n",
      "   750K .......... .......... .......... .......... .......... 73% 37.5M 0s\n",
      "   800K .......... .......... .......... .......... .......... 78% 19.6M 0s\n",
      "   850K .......... .......... .......... .......... .......... 82%  116M 0s\n",
      "   900K .......... .......... .......... .......... .......... 87% 18.7M 0s\n",
      "   950K .......... .......... .......... .......... .......... 91% 66.1M 0s\n",
      "  1000K .......... .......... .......... .......... .......... 96% 46.6M 0s\n",
      "  1050K .......... .......... .......... .........            100% 23.2M=0.08s\n",
      "\n",
      "2023-12-30 01:19:59 (13.9 MB/s) - 'input.txt' saved [1115394/1115394]\n",
      "\n"
     ]
    }
   ],
   "source": [
    "!wget https://raw.githubusercontent.com/karpathy/char-rnn/master/data/tinyshakespeare/input.txt"
   ]
  },
  {
   "cell_type": "code",
   "execution_count": 3,
   "metadata": {},
   "outputs": [],
   "source": [
    "with open('input.txt', 'r',encoding='utf-8') as f:\n",
    "    text = f.read()"
   ]
  },
  {
   "cell_type": "code",
   "execution_count": 4,
   "metadata": {},
   "outputs": [
    {
     "name": "stdout",
     "output_type": "stream",
     "text": [
      "length of dataset in characters: 1115394\n"
     ]
    }
   ],
   "source": [
    "print(\"length of dataset in characters:\", len(text))"
   ]
  },
  {
   "cell_type": "code",
   "execution_count": 7,
   "metadata": {},
   "outputs": [
    {
     "name": "stdout",
     "output_type": "stream",
     "text": [
      "First Citizen:\n",
      "Before we proceed any further, hear me speak.\n",
      "\n",
      "All:\n",
      "Speak, speak.\n",
      "\n",
      "First Citizen:\n",
      "You\n"
     ]
    }
   ],
   "source": [
    "print(text[:100])"
   ]
  },
  {
   "cell_type": "code",
   "execution_count": 9,
   "metadata": {},
   "outputs": [
    {
     "name": "stdout",
     "output_type": "stream",
     "text": [
      "65 \n",
      " !$&',-.3:;?ABCDEFGHIJKLMNOPQRSTUVWXYZabcdefghijklmnopqrstuvwxyz\n"
     ]
    }
   ],
   "source": [
    "chars = sorted(list(set(text)))\n",
    "vocab_Size = len(chars)\n",
    "print(vocab_Size, ''.join(chars))"
   ]
  },
  {
   "cell_type": "markdown",
   "metadata": {},
   "source": [
    "#### tokenization"
   ]
  },
  {
   "cell_type": "code",
   "execution_count": 10,
   "metadata": {},
   "outputs": [
    {
     "name": "stdout",
     "output_type": "stream",
     "text": [
      "[46, 47, 47, 1, 58, 46, 43, 56, 43]\n",
      "hii there\n"
     ]
    }
   ],
   "source": [
    "stoi = {ch:i for i,ch in enumerate(chars)}\n",
    "itos = {i:ch for i,ch in enumerate(chars)}\n",
    "encode = lambda s: [stoi[c] for c in s]\n",
    "decode = lambda l: ''.join([itos[i] for i in l])\n",
    "\n",
    "print(encode(\"hii there\"))\n",
    "print(decode(encode(\"hii there\")))"
   ]
  },
  {
   "cell_type": "code",
   "execution_count": null,
   "metadata": {},
   "outputs": [],
   "source": []
  }
 ],
 "metadata": {
  "kernelspec": {
   "display_name": "llm",
   "language": "python",
   "name": "python3"
  },
  "language_info": {
   "codemirror_mode": {
    "name": "ipython",
    "version": 3
   },
   "file_extension": ".py",
   "mimetype": "text/x-python",
   "name": "python",
   "nbconvert_exporter": "python",
   "pygments_lexer": "ipython3",
   "version": "3.10.13"
  }
 },
 "nbformat": 4,
 "nbformat_minor": 2
}
