{
  "nbformat": 4,
  "nbformat_minor": 0,
  "metadata": {
    "colab": {
      "provenance": [],
      "gpuType": "T4"
    },
    "kernelspec": {
      "name": "python3",
      "display_name": "Python 3"
    },
    "language_info": {
      "name": "python"
    },
    "accelerator": "GPU"
  },
  "cells": [
    {
      "cell_type": "code",
      "source": [
        "import torch\n",
        "import torch.nn as nn\n",
        "import torch.nn.functional as F\n",
        "import matplotlib.pyplot as plt\n",
        "\n",
        "\n",
        "device = 'cuda' if torch.cuda.is_available() else 'cpu'\n",
        "print(device)\n",
        "block_size = 256\n",
        "batch_size = 16\n",
        "max_iters = 5000\n",
        "learning_rate = 1e-2\n",
        "eval_iters = 250"
      ],
      "metadata": {
        "colab": {
          "base_uri": "https://localhost:8080/"
        },
        "id": "rYjhRvdToL8p",
        "outputId": "f556a859-b187-48b6-fbce-dd86da97e8e1"
      },
      "execution_count": null,
      "outputs": [
        {
          "output_type": "stream",
          "name": "stdout",
          "text": [
            "cuda\n"
          ]
        }
      ]
    },
    {
      "cell_type": "code",
      "execution_count": null,
      "metadata": {
        "colab": {
          "base_uri": "https://localhost:8080/"
        },
        "id": "Xr-qPG86mdgj",
        "outputId": "2e2702fe-ff34-4adc-9eb2-f43629bef1fe"
      },
      "outputs": [
        {
          "output_type": "stream",
          "name": "stdout",
          "text": [
            "Drive already mounted at /content/drive; to attempt to forcibly remount, call drive.mount(\"/content/drive\", force_remount=True).\n"
          ]
        }
      ],
      "source": [
        "from google.colab import drive\n",
        "drive.mount('/content/drive')"
      ]
    },
    {
      "cell_type": "code",
      "source": [
        "with open(\"drive/My Drive/wizard_of_oz.txt\", encoding='utf-8') as f:\n",
        "    text = f.read()"
      ],
      "metadata": {
        "id": "r9Cu9_t6nK63"
      },
      "execution_count": null,
      "outputs": []
    },
    {
      "cell_type": "code",
      "source": [
        "chars = sorted(set(text))\n",
        "print(len(chars),chars)"
      ],
      "metadata": {
        "colab": {
          "base_uri": "https://localhost:8080/"
        },
        "id": "81Y0-E-Gngoe",
        "outputId": "1c7e9fdd-5824-4dff-dcb7-bfdf5266307c"
      },
      "execution_count": null,
      "outputs": [
        {
          "output_type": "stream",
          "name": "stdout",
          "text": [
            "81 ['\\n', ' ', '!', '\"', '&', \"'\", '(', ')', '*', ',', '-', '.', '0', '1', '2', '3', '4', '5', '6', '7', '8', '9', ':', ';', '?', 'A', 'B', 'C', 'D', 'E', 'F', 'G', 'H', 'I', 'J', 'K', 'L', 'M', 'N', 'O', 'P', 'Q', 'R', 'S', 'T', 'U', 'V', 'W', 'X', 'Y', 'Z', '[', ']', '_', 'a', 'b', 'c', 'd', 'e', 'f', 'g', 'h', 'i', 'j', 'k', 'l', 'm', 'n', 'o', 'p', 'q', 'r', 's', 't', 'u', 'v', 'w', 'x', 'y', 'z', '\\ufeff']\n"
          ]
        }
      ]
    },
    {
      "cell_type": "code",
      "source": [
        "vocab_size = len(chars)"
      ],
      "metadata": {
        "id": "E2I1PFyPnq5T"
      },
      "execution_count": null,
      "outputs": []
    },
    {
      "cell_type": "code",
      "source": [
        "string_to_int = {ch:i for i,ch in enumerate(chars)}\n",
        "int_to_string = {i:ch for i,ch in enumerate(chars)}\n",
        "encode = lambda s: [string_to_int[c] for c in s]\n",
        "decode = lambda l: ''.join([int_to_string[i] for i in l])"
      ],
      "metadata": {
        "id": "an-GHrfUntFM"
      },
      "execution_count": null,
      "outputs": []
    },
    {
      "cell_type": "code",
      "source": [
        "data = torch.tensor(encode(text), dtype=torch.long)"
      ],
      "metadata": {
        "id": "zBLdtAiFojLW"
      },
      "execution_count": null,
      "outputs": []
    },
    {
      "cell_type": "code",
      "source": [
        "data, len(text)"
      ],
      "metadata": {
        "colab": {
          "base_uri": "https://localhost:8080/"
        },
        "id": "TpUcQvj6cXfZ",
        "outputId": "39f49619-c52c-44a3-cc01-91c0694b7402"
      },
      "execution_count": null,
      "outputs": [
        {
          "output_type": "execute_result",
          "data": {
            "text/plain": [
              "(tensor([80,  1,  1,  ..., 29, 67, 57]), 232309)"
            ]
          },
          "metadata": {},
          "execution_count": 8
        }
      ]
    },
    {
      "cell_type": "code",
      "source": [
        "n = int(0.8 * len(data))\n",
        "train_data = data[:n]\n",
        "val_data = data[n:]\n",
        "\n",
        "def get_batch(split:str):\n",
        "  data = train_data if split==\"train\" else val_data\n",
        "  ix = torch.randint(len(data) - block_size, (batch_size,))\n",
        "  x = torch.stack([data[i : i+block_size] for i in ix])\n",
        "  y = torch.stack([data[i+1 : i+block_size+1] for i in ix])\n",
        "  x,y = x.to(device), y.to(device)\n",
        "  return x,y"
      ],
      "metadata": {
        "id": "JZUKIV46pSyg"
      },
      "execution_count": null,
      "outputs": []
    },
    {
      "cell_type": "code",
      "source": [
        "x,y = get_batch('train')\n",
        "# print(x)\n",
        "# print(y)"
      ],
      "metadata": {
        "id": "n2_2L9VHpY3M"
      },
      "execution_count": null,
      "outputs": []
    },
    {
      "cell_type": "code",
      "source": [
        "@torch.no_grad()\n",
        "def estimate_loss():\n",
        "    out = {}\n",
        "    model.eval()\n",
        "    for split in ['train', 'val']:\n",
        "        losses = torch.zeros(eval_iters)\n",
        "        for k in range(eval_iters):\n",
        "              X,Y = get_batch(split)\n",
        "              logits, loss = model(X,Y)\n",
        "              losses[k] = loss.item()\n",
        "        out[split] = losses.mean()\n",
        "    model.train()\n",
        "    return out"
      ],
      "metadata": {
        "id": "OqAkhYwJ_w4Z"
      },
      "execution_count": null,
      "outputs": []
    },
    {
      "cell_type": "code",
      "source": [
        "class BigramLanguageModel(nn.Module):\n",
        "    def __init__(self, vocab_size):\n",
        "        super().__init__()\n",
        "        self.token_embedding_table = nn.Embedding(vocab_size, vocab_size)\n",
        "\n",
        "    def forward(self, index, targets=None):\n",
        "        logits = self.token_embedding_table(index)\n",
        "        if targets is None:\n",
        "            loss = None\n",
        "        else:\n",
        "            B,T,C = logits.shape # batch, time, channels(vocab size)\n",
        "            logits = logits.view(B*T, C)\n",
        "            targets = targets.view(B*T)\n",
        "            loss = F.cross_entropy(logits, targets)\n",
        "        return logits, loss\n",
        "\n",
        "    def generate(self, index, max_new_tokens):\n",
        "        for _ in range(max_new_tokens):\n",
        "            logits, loss = self.forward(index) # get prediction\n",
        "            logits = logits[:, -1, :] # get the last time step, (B,C)\n",
        "            probs = F.softmax(logits, dim=-1) # apply softmax to get probs\n",
        "            index_next = torch.multinomial(probs, num_samples=1) # sample from distribution (B,1)\n",
        "            index = torch.cat((index, index_next), dim=1) # append sampled to get sequence (B, T+1)\n",
        "        return index"
      ],
      "metadata": {
        "id": "nUKN6Y2zx4Dx"
      },
      "execution_count": null,
      "outputs": []
    },
    {
      "cell_type": "code",
      "source": [
        "model = BigramLanguageModel(vocab_size)"
      ],
      "metadata": {
        "id": "FEsQfZy44vHr"
      },
      "execution_count": null,
      "outputs": []
    },
    {
      "cell_type": "code",
      "source": [
        "m = model.to(device)"
      ],
      "metadata": {
        "id": "cMgZXZNg4vEe"
      },
      "execution_count": null,
      "outputs": []
    },
    {
      "cell_type": "code",
      "source": [
        "context = torch.zeros((1,1), dtype=torch.long, device=device)\n",
        "context"
      ],
      "metadata": {
        "colab": {
          "base_uri": "https://localhost:8080/"
        },
        "id": "XrmouElE4vBU",
        "outputId": "3da7d170-4c17-4a22-9d85-d67286cc8e23"
      },
      "execution_count": null,
      "outputs": [
        {
          "output_type": "execute_result",
          "data": {
            "text/plain": [
              "tensor([[0]], device='cuda:0')"
            ]
          },
          "metadata": {},
          "execution_count": 15
        }
      ]
    },
    {
      "cell_type": "code",
      "source": [
        "generate_chars = decode(m.generate(context, max_new_tokens=500)[0].tolist())\n",
        "print(generate_chars)"
      ],
      "metadata": {
        "colab": {
          "base_uri": "https://localhost:8080/"
        },
        "id": "YAyfz1Vb4u-L",
        "outputId": "c246b293-a335-414a-fa64-ced7d10a2ccf"
      },
      "execution_count": null,
      "outputs": [
        {
          "output_type": "stream",
          "name": "stdout",
          "text": [
            "\n",
            "B3l!dAW[L,Ee8HpT* ][__,c2ue!RY*v(DGAz111J!a[,LFIp;ly:cy5Ll ,fs0&);:a﻿)uv]eR!\"7ll05vCkzu4V(0ATGBN:c0BosXX-XX9\"hb(0qYq_Sg&Hc\n",
            "!z\n",
            "aETag.2p4CJ*;oMKwkGUFc0h8PA l.d)7i[_nQWvJs\n",
            "[)N!oa[g._8UStVL0OQMjq8(r\n",
            "mY2)Y2mXo[siDGDSoC.XB!4By8bfs\n",
            "pzHeBN.iuF 2WLJwk7K&_oJSMEcKFiJ&B)Kx2I\n",
            "SC9Li9x)&027LX-&0,!tZT'ujwQNvFIaEBAxO;owQ4U.AlH:.AoRb1IoY2B)!IX_J5D]cB)k﻿,qFIdXCCuoDMNN]a&K*P3zpre!LE:hLe8G6?bSmt]pAl-EH\"J]0vJ\"7e!czJo&A\"WR7:]pNds1*Y[ ,?h5[( IL)iAz&BW2\n",
            "a(0&_VKVbiY*'Xr0H!mn)'pZKdCp\"v_iQ?8Dn-bH2);:S0BDBtpTejx[9\n",
            "QVPjZ.dMy\n"
          ]
        }
      ]
    },
    {
      "cell_type": "code",
      "source": [
        "optimizer = torch.optim.AdamW(model.parameters(), lr=learning_rate)\n",
        "loss_list=[]\n",
        "for iter in range(max_iters):\n",
        "    if iter % eval_iters == 0:\n",
        "        losses = estimate_loss()\n",
        "        print(f\"step: {iter}, train loss: {losses['train']:.4f}, val loss: {losses['val']:.4f}\")\n",
        "    xb, yb = get_batch('train')\n",
        "\n",
        "    logits, loss = model.forward(xb,yb)\n",
        "    optimizer.zero_grad(set_to_none=True)\n",
        "    loss.backward()\n",
        "    optimizer.step()\n",
        "    loss_list.append(loss.item())\n",
        "\n",
        "plt.plot(loss_list)"
      ],
      "metadata": {
        "colab": {
          "base_uri": "https://localhost:8080/",
          "height": 798
        },
        "id": "hOlJDHME6rC8",
        "outputId": "705d72fb-f05c-47df-bdb5-a546076447b8"
      },
      "execution_count": null,
      "outputs": [
        {
          "output_type": "stream",
          "name": "stdout",
          "text": [
            "step: 0, train loss: 4.8869, val loss: 4.8910\n",
            "step: 250, train loss: 2.8172, val loss: 2.8482\n",
            "step: 500, train loss: 2.5116, val loss: 2.5473\n",
            "step: 750, train loss: 2.4544, val loss: 2.5023\n",
            "step: 1000, train loss: 2.4393, val loss: 2.4935\n",
            "step: 1250, train loss: 2.4394, val loss: 2.4852\n",
            "step: 1500, train loss: 2.4318, val loss: 2.4793\n",
            "step: 1750, train loss: 2.4330, val loss: 2.4770\n",
            "step: 2000, train loss: 2.4281, val loss: 2.4755\n",
            "step: 2250, train loss: 2.4262, val loss: 2.4755\n",
            "step: 2500, train loss: 2.4241, val loss: 2.4740\n",
            "step: 2750, train loss: 2.4232, val loss: 2.4746\n",
            "step: 3000, train loss: 2.4245, val loss: 2.4749\n",
            "step: 3250, train loss: 2.4252, val loss: 2.4770\n",
            "step: 3500, train loss: 2.4245, val loss: 2.4752\n",
            "step: 3750, train loss: 2.4241, val loss: 2.4735\n",
            "step: 4000, train loss: 2.4212, val loss: 2.4732\n",
            "step: 4250, train loss: 2.4214, val loss: 2.4708\n",
            "step: 4500, train loss: 2.4232, val loss: 2.4755\n",
            "step: 4750, train loss: 2.4239, val loss: 2.4745\n"
          ]
        },
        {
          "output_type": "execute_result",
          "data": {
            "text/plain": [
              "[<matplotlib.lines.Line2D at 0x7e480a136f50>]"
            ]
          },
          "metadata": {},
          "execution_count": 17
        },
        {
          "output_type": "display_data",
          "data": {
            "text/plain": [
              "<Figure size 640x480 with 1 Axes>"
            ],
            "image/png": "[encoded data removed]"
          },
          "metadata": {}
        }
      ]
    },
    {
      "cell_type": "code",
      "source": [
        "context = torch.zeros((1,1), dtype=torch.long, device=device)\n",
        "generated_chars = decode(m.generate(context, max_new_tokens=500)[0].tolist())\n",
        "print(generated_chars)"
      ],
      "metadata": {
        "colab": {
          "base_uri": "https://localhost:8080/"
        },
        "id": "2kXgVZkp8XL1",
        "outputId": "525da1a7-b2d8-43d0-f1b3-c90e9f29833a"
      },
      "execution_count": null,
      "outputs": [
        {
          "output_type": "stream",
          "name": "stdout",
          "text": [
            "\n",
            "\n",
            "\"\n",
            "\"\n",
            "theiersowe foupotheliner\n",
            "sknd t'(sperklle a gl neg d\n",
            "\" olarery \"AUTharel ed y jes he pe. w on fus re t or beacheark whe't l f  stanthe the, matstllinde\n",
            "\"\n",
            "a:\n",
            "\n",
            "\"H crcueblador the\n",
            "ad g ore muparurt ppe thningensid cks avere thousstanendougetre ha te ky tincundrofropad ad hy thed sth coaney. wiese hers, stw tro iclong waseraboun\n",
            "\n",
            "\n",
            "\n",
            "\"\n",
            "trory ard  gg\n",
            "t hein thas, vesh veka n, f thingorke athe stengen f the p\n",
            "theroins y o t Wina t eatris ge, A s. abr suncecern he ad nee arf asth g bel g.\n",
            "d sof d te\n"
          ]
        }
      ]
    },
    {
      "cell_type": "code",
      "source": [
        "context = torch.tensor([encode(\"The Wiz\")], dtype=torch.long, device=device)\n",
        "generated_chars = decode(m.generate(context, max_new_tokens=500)[0].tolist())\n",
        "print(generated_chars)"
      ],
      "metadata": {
        "id": "escrc68M8YoQ",
        "colab": {
          "base_uri": "https://localhost:8080/"
        },
        "outputId": "fd4f6992-6680-4efb-8381-e16c43c9f653"
      },
      "execution_count": null,
      "outputs": [
        {
          "output_type": "stream",
          "name": "stdout",
          "text": [
            "The Wizaklad ainer omem nnedgVinde f thouther cend, ire ioughen\n",
            "ld,\"Weng mon. tleskju oon petis aroularain m,\n",
            "\n",
            "\n",
            "\n",
            "THee sothene a ac hisare pe owas tan bed-thend nd,\"Wey\n",
            "eltheald ad the and we, 7\n",
            "louthes, snd Wizaunovinkeyoboualered, nd tot wat rvois.\n",
            "ce t hersll he\n",
            "\n",
            "tlowoo tek\n",
            "hed coy Mron litheed tthasheaneres.\n",
            "\" ty win Coy tun. eangintlierys marorpemaleemereche nghe s ters higrod a ofu then.\n",
            "olaidere the\n",
            "hery at; y the ruithand omoupebl\n",
            "I man s glovippoo as fe,\n",
            "\"I'ly  y iD Jir  sexcl adiof[In WI I',\" \n"
          ]
        }
      ]
    },
    {
      "cell_type": "code",
      "source": [],
      "metadata": {
        "id": "0wKjkrE_rzUK"
      },
      "execution_count": null,
      "outputs": []
    }
  ]
}